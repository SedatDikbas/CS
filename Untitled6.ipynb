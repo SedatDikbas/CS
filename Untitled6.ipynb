{
  "nbformat": 4,
  "nbformat_minor": 0,
  "metadata": {
    "colab": {
      "provenance": [],
      "authorship_tag": "ABX9TyM1Q4wOhjkcAsp3oSs/tDJh",
      "include_colab_link": true
    },
    "kernelspec": {
      "name": "python3",
      "display_name": "Python 3"
    },
    "language_info": {
      "name": "python"
    }
  },
  "cells": [
    {
      "cell_type": "markdown",
      "metadata": {
        "id": "view-in-github",
        "colab_type": "text"
      },
      "source": [
        "<a href=\"https://colab.research.google.com/github/SedatDikbas/CS/blob/main/Untitled6.ipynb\" target=\"_parent\"><img src=\"https://colab.research.google.com/assets/colab-badge.svg\" alt=\"Open In Colab\"/></a>"
      ]
    },
    {
      "cell_type": "code",
      "execution_count": null,
      "metadata": {
        "colab": {
          "base_uri": "https://localhost:8080/"
        },
        "id": "UTpxGkGV-MmU",
        "outputId": "f80e5a5c-d24f-4fc0-b2a5-f6f36c7c9042"
      },
      "outputs": [
        {
          "output_type": "stream",
          "name": "stdout",
          "text": [
            "'updated_data.csv' dosyası başarıyla oluşturuldu.\n"
          ]
        }
      ],
      "source": [
        "# prompt: data.csv dosyamda rating kolonundaki değerleri 0.5 ve üstünde olanları 1 altında olanları 0 olarak güncelle ve yeni bir csv dosyasına tüm verileri günceş haliyle kaydet\n",
        "\n",
        "import pandas as pd\n",
        "\n",
        "# CSV dosyasını oku\n",
        "try:\n",
        "  data = pd.read_csv('data.csv')\n",
        "except FileNotFoundError:\n",
        "  print(\"Hata: 'data.csv' dosyası bulunamadı.\")\n",
        "  exit()\n",
        "\n",
        "# Rating kolonunu güncelle\n",
        "data['rate'] = data['rate'].apply(lambda x: 1 if x >= 0.5 else 0)\n",
        "\n",
        "# Güncellenmiş verileri yeni bir CSV dosyasına kaydet\n",
        "try:\n",
        "  data.to_csv('updated_data.csv', index=False)\n",
        "  print(\"'updated_data.csv' dosyası başarıyla oluşturuldu.\")\n",
        "except Exception as e:\n",
        "  print(f\"Hata: Dosya kaydedilirken bir sorun oluştu: {e}\")"
      ]
    },
    {
      "cell_type": "code",
      "source": [
        "# prompt: updated_data dosyamda rate alanında kaç tane 0 kaç tane 1 var\n",
        "\n",
        "import pandas as pd\n",
        "\n",
        "try:\n",
        "    updated_data = pd.read_csv('updated_data.csv')\n",
        "    zero_count = updated_data['rate'].value_counts().get(0, 0)\n",
        "    one_count = updated_data['rate'].value_counts().get(1, 0)\n",
        "    print(f\"Rate alanında 0 değerlerinin sayısı: {zero_count}\")\n",
        "    print(f\"Rate alanında 1 değerlerinin sayısı: {one_count}\")\n",
        "except FileNotFoundError:\n",
        "    print(\"Hata: 'updated_data.csv' dosyası bulunamadı.\")\n",
        "except KeyError:\n",
        "    print(\"Hata: 'updated_data.csv' dosyasında 'rate' sütunu bulunamadı.\")\n",
        "except Exception as e:\n",
        "    print(f\"Beklenmeyen bir hata oluştu: {e}\")"
      ],
      "metadata": {
        "colab": {
          "base_uri": "https://localhost:8080/"
        },
        "id": "iFbYBbHI_Aco",
        "outputId": "ab0830ce-d6f9-40d3-f632-ebe5c06f80df"
      },
      "execution_count": null,
      "outputs": [
        {
          "output_type": "stream",
          "name": "stdout",
          "text": [
            "Rate alanında 0 değerlerinin sayısı: 89\n",
            "Rate alanında 1 değerlerinin sayısı: 1623\n"
          ]
        }
      ]
    },
    {
      "cell_type": "code",
      "source": [],
      "metadata": {
        "id": "r1keJ0TSCPue"
      },
      "execution_count": null,
      "outputs": []
    },
    {
      "cell_type": "code",
      "source": [
        "import pandas as pd\n",
        "from imblearn.over_sampling import SMOTE\n",
        "from sklearn.preprocessing import LabelEncoder\n",
        "\n",
        "\n",
        "try:\n",
        "    data = pd.read_csv('updated_data.csv')\n",
        "except FileNotFoundError:\n",
        "    print(\"Hata: 'data.csv' dosyası bulunamadı.\")\n",
        "    exit()\n",
        "\n",
        "\n",
        "if data.isnull().values.any():\n",
        "    print(\"Veri setinde eksik değerler var, bunlar kaldırılıyor...\")\n",
        "    data = data.dropna()\n",
        "\n",
        "\n",
        "if 'rate' not in data.columns:\n",
        "    print(\"Hata: 'rate' sütunu veri setinde bulunamadı.\")\n",
        "    exit()\n",
        "\n",
        "\n",
        "class_counts = data['rate'].value_counts()\n",
        "if len(class_counts) < 2:\n",
        "    print(\"Hata: 'rate' sütunu en az iki sınıf içermelidir.\")\n",
        "    exit()\n",
        "\n",
        "\n",
        "X = data.drop('rate', axis=1)\n",
        "Y = data['rate']\n",
        "\n",
        "\n",
        "for column in X.columns:\n",
        "    if X[column].dtype == 'object':\n",
        "        le = LabelEncoder()\n",
        "        X[column] = le.fit_transform(X[column])\n",
        "\n",
        "from imblearn.over_sampling import SMOTE\n",
        "\n",
        "smote=SMOTE(sampling_strategy='minority')\n",
        "X, Y=smote.fit_resample(X,Y)\n",
        "Y.value_counts()\n",
        "\n",
        "# Dengeli verileri yeni bir DataFrame'e dönüştürme\n",
        "balanced_data = pd.DataFrame(X_resampled, columns=X.columns)\n",
        "balanced_data['rate'] = Y_resampled\n",
        "\n",
        "# Güncellenmiş verileri yeni bir CSV dosyasına kaydet\n",
        "try:\n",
        "    balanced_data.to_csv('balanced_data.csv', index=False)\n",
        "    print(\"'balanced_data.csv' dosyası başarıyla oluşturuldu.\")\n",
        "except Exception as e:\n",
        "    print(f\"Hata: Dosya kaydedilirken bir sorun oluştu: {e}\")\n",
        "    exit()\n"
      ],
      "metadata": {
        "colab": {
          "base_uri": "https://localhost:8080/",
          "height": 211
        },
        "id": "qh1Gj9rEDopu",
        "outputId": "85982a37-ddb2-4cd3-9862-6314e2c49325"
      },
      "execution_count": null,
      "outputs": [
        {
          "output_type": "error",
          "ename": "NameError",
          "evalue": "name 'Y_resampled' is not defined",
          "traceback": [
            "\u001b[0;31m---------------------------------------------------------------------------\u001b[0m",
            "\u001b[0;31mNameError\u001b[0m                                 Traceback (most recent call last)",
            "\u001b[0;32m<ipython-input-18-59d8c2be7008>\u001b[0m in \u001b[0;36m<cell line: 46>\u001b[0;34m()\u001b[0m\n\u001b[1;32m     44\u001b[0m \u001b[0;31m# Dengeli verileri yeni bir DataFrame'e dönüştürme\u001b[0m\u001b[0;34m\u001b[0m\u001b[0;34m\u001b[0m\u001b[0m\n\u001b[1;32m     45\u001b[0m \u001b[0mbalanced_data\u001b[0m \u001b[0;34m=\u001b[0m \u001b[0mpd\u001b[0m\u001b[0;34m.\u001b[0m\u001b[0mDataFrame\u001b[0m\u001b[0;34m(\u001b[0m\u001b[0mX_resampled\u001b[0m\u001b[0;34m,\u001b[0m \u001b[0mcolumns\u001b[0m\u001b[0;34m=\u001b[0m\u001b[0mX\u001b[0m\u001b[0;34m.\u001b[0m\u001b[0mcolumns\u001b[0m\u001b[0;34m)\u001b[0m\u001b[0;34m\u001b[0m\u001b[0;34m\u001b[0m\u001b[0m\n\u001b[0;32m---> 46\u001b[0;31m \u001b[0mbalanced_data\u001b[0m\u001b[0;34m[\u001b[0m\u001b[0;34m'rate'\u001b[0m\u001b[0;34m]\u001b[0m \u001b[0;34m=\u001b[0m \u001b[0mY_resampled\u001b[0m\u001b[0;34m\u001b[0m\u001b[0;34m\u001b[0m\u001b[0m\n\u001b[0m\u001b[1;32m     47\u001b[0m \u001b[0;34m\u001b[0m\u001b[0m\n\u001b[1;32m     48\u001b[0m \u001b[0;31m# Güncellenmiş verileri yeni bir CSV dosyasına kaydet\u001b[0m\u001b[0;34m\u001b[0m\u001b[0;34m\u001b[0m\u001b[0m\n",
            "\u001b[0;31mNameError\u001b[0m: name 'Y_resampled' is not defined"
          ]
        }
      ]
    },
    {
      "cell_type": "code",
      "source": [
        "import pandas as pd\n",
        "from imblearn.over_sampling import SMOTE\n",
        "from sklearn.preprocessing import LabelEncoder\n",
        "\n",
        "\n",
        "try:\n",
        "    data = pd.read_csv('updated_data.csv')\n",
        "except FileNotFoundError:\n",
        "    print(\"Hata: 'data.csv' dosyası bulunamadı.\")\n",
        "    exit()\n",
        "\n",
        "\n",
        "if data.isnull().values.any():\n",
        "    print(\"Veri setinde eksik değerler var, bunlar kaldırılıyor...\")\n",
        "    data = data.dropna()\n",
        "\n",
        "\n",
        "if 'rate' not in data.columns:\n",
        "    print(\"Hata: 'rate' sütunu veri setinde bulunamadı.\")\n",
        "    exit()\n",
        "\n",
        "\n",
        "class_counts = data['rate'].value_counts()\n",
        "if len(class_counts) < 2:\n",
        "    print(\"Hata: 'rate' sütunu en az iki sınıf içermelidir.\")\n",
        "    exit()\n",
        "\n",
        "\n",
        "X = data.drop('rate', axis=1)\n",
        "Y = data['rate']\n",
        "\n",
        "\n",
        "for column in X.columns:\n",
        "    if X[column].dtype == 'object':\n",
        "        le = LabelEncoder()\n",
        "        X[column] = le.fit_transform(X[column])\n",
        "\n",
        "from imblearn.over_sampling import SMOTE\n",
        "\n",
        "smote=SMOTE(sampling_strategy='minority')\n",
        "# Assign the output to X_resampled and y_resampled\n",
        "X_resampled, y_resampled = smote.fit_resample(X,Y)\n",
        "Y.value_counts()\n",
        "\n",
        "# Dengeli verileri yeni bir DataFrame'e dönüştürme\n",
        "balanced_data = pd.DataFrame(X_resampled, columns=X.columns)\n",
        "# Use y_resampled instead of Y_resampled\n",
        "balanced_data['rate'] = y_resampled\n",
        "\n",
        "# Güncellenmiş verileri yeni bir CSV dosyasına kaydet\n",
        "try:\n",
        "    balanced_data.to_csv('balanced_data.csv', index=False)\n",
        "    print(\"'balanced_data.csv' dosyası başarıyla oluşturuldu.\")\n",
        "except Exception as e:\n",
        "    print(f\"Hata: Dosya kaydedilirken bir sorun oluştu: {e}\")\n",
        "    exit()"
      ],
      "metadata": {
        "id": "1lCaXN9UWEKg",
        "outputId": "5f2c8018-2771-4d03-b89d-506853d93e9a",
        "colab": {
          "base_uri": "https://localhost:8080/"
        }
      },
      "execution_count": null,
      "outputs": [
        {
          "output_type": "stream",
          "name": "stdout",
          "text": [
            "'balanced_data.csv' dosyası başarıyla oluşturuldu.\n"
          ]
        }
      ]
    },
    {
      "cell_type": "code",
      "source": [
        "# prompt: balanced_data dosyamdaki rate alanındaki 0 ve 1 leri ayrı ayrı say\n",
        "\n",
        "try:\n",
        "    balanced_data = pd.read_csv('balanced_data.csv')\n",
        "    zero_count = balanced_data['rate'].value_counts().get(0, 0)\n",
        "    one_count = balanced_data['rate'].value_counts().get(1, 0)\n",
        "    print(f\"Rate alanında 0 değerlerinin sayısı: {zero_count}\")\n",
        "    print(f\"Rate alanında 1 değerlerinin sayısı: {one_count}\")\n",
        "except FileNotFoundError:\n",
        "    print(\"Hata: 'balanced_data.csv' dosyası bulunamadı.\")\n",
        "except KeyError:\n",
        "    print(\"Hata: 'balanced_data.csv' dosyasında 'rate' sütunu bulunamadı.\")\n",
        "except Exception as e:\n",
        "    print(f\"Beklenmeyen bir hata oluştu: {e}\")"
      ],
      "metadata": {
        "colab": {
          "base_uri": "https://localhost:8080/"
        },
        "id": "x98nSUUoDxqJ",
        "outputId": "d1cd2cde-8221-4f87-8e9c-84dfddc71fa7"
      },
      "execution_count": null,
      "outputs": [
        {
          "output_type": "stream",
          "name": "stdout",
          "text": [
            "Rate alanında 0 değerlerinin sayısı: 1623\n",
            "Rate alanında 1 değerlerinin sayısı: 1623\n"
          ]
        }
      ]
    },
    {
      "cell_type": "code",
      "source": [
        "# prompt: data dosyamda bos olan verileri bul wekada açarken hata alıyorum\n",
        "\n",
        "import pandas as pd\n",
        "from imblearn.over_sampling import SMOTE\n",
        "from sklearn.preprocessing import LabelEncoder\n",
        "\n",
        "\n",
        "# CSV dosyasını oku\n",
        "try:\n",
        "  data = pd.read_csv('data.csv')\n",
        "except FileNotFoundError:\n",
        "  print(\"Hata: 'data.csv' dosyası bulunamadı.\")\n",
        "  exit()\n",
        "\n",
        "# Boş değerleri kontrol et ve işle\n",
        "if data.isnull().values.any():\n",
        "    print(\"Veri setinde eksik değerler tespit edildi. İşleniyor...\")\n",
        "    # Boş değerleri kaldırma veya doldurma yöntemlerini seçebilirsiniz.\n",
        "    # Örnek: Boş değerleri 0 ile doldurma\n",
        "    data.fillna(0, inplace=True)\n",
        "    # Örnek: Boş değerleri sütun ortalaması ile doldurma\n",
        "    # data.fillna(data.mean(), inplace=True)\n",
        "    # Örnek: Boş değerleri kaldırma\n",
        "    # data.dropna(inplace=True)\n",
        "\n",
        "# Rating kolonunu güncelle\n",
        "data['rate'] = data['rate'].apply(lambda x: 1 if x >= 0.5 else 0)\n",
        "\n",
        "# ... (Kodun geri kalanı aynı kalır)"
      ],
      "metadata": {
        "colab": {
          "base_uri": "https://localhost:8080/"
        },
        "id": "YBzVKyitJ1Ze",
        "outputId": "d7a90b8b-8998-4b89-c08e-da1a6e10b70c"
      },
      "execution_count": null,
      "outputs": [
        {
          "output_type": "stream",
          "name": "stdout",
          "text": [
            "Veri setinde boş değer içeren satır bulunamadı.\n"
          ]
        }
      ]
    },
    {
      "cell_type": "code",
      "source": [
        "import pandas as pd\n",
        "\n",
        "# CSV dosyasını oku\n",
        "try:\n",
        "    data = pd.read_csv('data.csv')\n",
        "except FileNotFoundError:\n",
        "    print(\"Hata: 'data.csv' dosyası bulunamadı.\")\n",
        "    exit()\n",
        "\n",
        "# Tüm hücrelerden tek tırnakları kaldır\n",
        "data = data.replace(\"'\", \"\", regex=True)\n",
        "\n",
        "# Temizlenmiş CSV dosyasını kaydet\n",
        "try:\n",
        "    data.to_csv('cleaned_data.csv', index=False)\n",
        "    print(\"'cleaned_data.csv' dosyası başarıyla oluşturuldu.\")\n",
        "except Exception as e:\n",
        "    print(f\"Hata: Dosya kaydedilirken bir sorun oluştu: {e}\")\n",
        "    exit()\n"
      ],
      "metadata": {
        "colab": {
          "base_uri": "https://localhost:8080/"
        },
        "id": "6UtY-69GLmEV",
        "outputId": "16264cc4-e0c3-4ec7-b2aa-13b2e41e6fa3"
      },
      "execution_count": null,
      "outputs": [
        {
          "output_type": "stream",
          "name": "stdout",
          "text": [
            "'cleaned_data.csv' dosyası başarıyla oluşturuldu.\n"
          ]
        }
      ]
    },
    {
      "cell_type": "code",
      "source": [
        "# prompt: veri setinde bilinmeyen karakterler var ne yapılabilir\n",
        "\n",
        "import pandas as pd\n",
        "from imblearn.over_sampling import SMOTE\n",
        "from sklearn.preprocessing import LabelEncoder\n",
        "\n",
        "# CSV dosyasını oku\n",
        "try:\n",
        "    data = pd.read_csv('data.csv', encoding='latin-1') # or 'utf-8', 'iso-8859-1' etc.\n",
        "except FileNotFoundError:\n",
        "    print(\"Hata: 'data.csv' dosyası bulunamadı.\")\n",
        "    exit()\n",
        "except UnicodeDecodeError:\n",
        "    print(\"Hata: Dosya kodlaması hatalı. Farklı bir kodlama deneyin (örneğin, 'latin-1', 'utf-8', 'iso-8859-1').\")\n",
        "    exit()\n",
        "except Exception as e:\n",
        "    print(f\"Dosya okunurken bir hata oluştu: {e}\")\n",
        "    exit()\n",
        "\n",
        "# ... (kodun geri kalanı)"
      ],
      "metadata": {
        "id": "zq3OG49sPxg6"
      },
      "execution_count": null,
      "outputs": []
    },
    {
      "cell_type": "code",
      "source": [],
      "metadata": {
        "id": "U0xZDcEzQ-FS"
      },
      "execution_count": null,
      "outputs": []
    },
    {
      "cell_type": "code",
      "source": [
        "import matplotlib.pyplot as plt\n",
        "import pandas as pd\n",
        "data = pd.read_csv('updated_data.csv')\n",
        "x=data.drop([\"rate\"],axis=1)\n",
        "y=data[\"rate\"]\n",
        "\n",
        "count_class = y.value_counts() # Count the occurrences of each class\n",
        "plt.bar(count_class.index, count_class.values)\n",
        "plt.xlabel('Class')\n",
        "plt.ylabel('Count')\n",
        "plt.title('Class Distribution')\n",
        "plt.xticks(count_class.index, ['Class 0', 'Class 1'])\n",
        "plt.show()"
      ],
      "metadata": {
        "colab": {
          "base_uri": "https://localhost:8080/",
          "height": 472
        },
        "id": "BXyZaF_mTwmZ",
        "outputId": "0a8176b6-05bd-4a6b-b26d-797ad8d82409"
      },
      "execution_count": null,
      "outputs": [
        {
          "output_type": "display_data",
          "data": {
            "text/plain": [
              "<Figure size 640x480 with 1 Axes>"
            ],
            "image/png": "[encoded data removed]"
          },
          "metadata": {}
        }
      ]
    },
    {
      "cell_type": "code",
      "source": [
        "import pandas as pd\n",
        "from imblearn.over_sampling import SMOTE\n",
        "from sklearn.preprocessing import LabelEncoder\n",
        "\n",
        "# CSV dosyasını oku\n",
        "try:\n",
        "    data = pd.read_csv('updated_data.csv')\n",
        "except FileNotFoundError:\n",
        "    print(\"Hata: 'data.csv' dosyası bulunamadı.\")\n",
        "    exit()\n",
        "\n",
        "\n",
        "if data.isnull().values.any():\n",
        "    print(\"Veri setinde eksik değerler var, bunlar kaldırılıyor...\")\n",
        "    data = data.dropna()\n",
        "\n",
        "\n",
        "if 'rate' not in data.columns:\n",
        "    print(\"Hata: 'rate' sütunu veri setinde bulunamadı.\")\n",
        "    exit()\n",
        "\n",
        "\n",
        "class_counts = data['rate'].value_counts()\n",
        "if len(class_counts) < 2:\n",
        "    print(\"Hata: 'rate' sütunu en az iki sınıf içermelidir.\")\n",
        "    exit()\n",
        "\n",
        "\n",
        "X = data.drop('rate', axis=1)\n",
        "Y = data['rate']\n",
        "\n",
        "\n",
        "# Tüm sütunları kontrol ederek object tipindeki sütunları Label Encoding ile dönüştür\n",
        "for column in X.columns:\n",
        "    if X[column].dtype == 'object':\n",
        "        le = LabelEncoder()\n",
        "        X[column] = le.fit_transform(X[column])  # object tipindeki sütunları sayısal hale getir\n",
        "\n",
        "# SMOTE ile veri dengeleme\n",
        "try:\n",
        "    smote = SMOTE(random_state=42)\n",
        "    X_resampled, y_resampled = smote.fit_resample(X, Y)\n",
        "except Exception as e:\n",
        "    print(f\"SMOTE işlemi sırasında bir hata oluştu: {e}\")\n",
        "    exit()\n",
        "\n",
        "# Dengeli verileri yeni bir DataFrame'e dönüştürme\n",
        "balanced_data = pd.DataFrame(X_resampled, columns=X.columns)\n",
        "balanced_data['rate'] = y_resampled\n",
        "\n",
        "# Güncellenmiş verileri yeni bir CSV dosyasına kaydet\n",
        "try:\n",
        "    balanced_data.to_csv('balanced_data.csv', index=False)\n",
        "    print(\"'balanced_data.csv' dosyası başarıyla oluşturuldu.\")\n",
        "except Exception as e:\n",
        "    print(f\"Hata: Dosya kaydedilirken bir sorun oluştu: {e}\")\n",
        "    exit()"
      ],
      "metadata": {
        "colab": {
          "base_uri": "https://localhost:8080/"
        },
        "id": "iInjWswPU7QO",
        "outputId": "3251659b-8ab7-439c-bf0d-f49f3ac8d3fc"
      },
      "execution_count": null,
      "outputs": [
        {
          "output_type": "stream",
          "name": "stdout",
          "text": [
            "'balanced_data.csv' dosyası başarıyla oluşturuldu.\n"
          ]
        }
      ]
    }
  ]
}